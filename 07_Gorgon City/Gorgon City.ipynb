{
 "cells": [
  {
   "cell_type": "markdown",
   "id": "4d5c5dd8-3b98-4d5e-9131-49b65cc12763",
   "metadata": {},
   "source": [
    "## Gorgon City"
   ]
  },
  {
   "cell_type": "code",
   "execution_count": 1,
   "id": "44073ba3-3037-4abe-ad7b-4412ec6a56d1",
   "metadata": {},
   "outputs": [
    {
     "data": {
      "text/html": [
       "<div>\n",
       "<style scoped>\n",
       "    .dataframe tbody tr th:only-of-type {\n",
       "        vertical-align: middle;\n",
       "    }\n",
       "\n",
       "    .dataframe tbody tr th {\n",
       "        vertical-align: top;\n",
       "    }\n",
       "\n",
       "    .dataframe thead th {\n",
       "        text-align: right;\n",
       "    }\n",
       "</style>\n",
       "<table border=\"1\" class=\"dataframe\">\n",
       "  <thead>\n",
       "    <tr style=\"text-align: right;\">\n",
       "      <th></th>\n",
       "      <th>Date</th>\n",
       "      <th>Viberate performance points</th>\n",
       "      <th>Viberate rank</th>\n",
       "    </tr>\n",
       "  </thead>\n",
       "  <tbody>\n",
       "    <tr>\n",
       "      <th>0</th>\n",
       "      <td>2023-02-27</td>\n",
       "      <td>618725</td>\n",
       "      <td>NaN</td>\n",
       "    </tr>\n",
       "    <tr>\n",
       "      <th>1</th>\n",
       "      <td>2023-02-28</td>\n",
       "      <td>616597</td>\n",
       "      <td>3256.0</td>\n",
       "    </tr>\n",
       "    <tr>\n",
       "      <th>2</th>\n",
       "      <td>2023-03-01</td>\n",
       "      <td>618045</td>\n",
       "      <td>3262.0</td>\n",
       "    </tr>\n",
       "    <tr>\n",
       "      <th>3</th>\n",
       "      <td>2023-03-02</td>\n",
       "      <td>620270</td>\n",
       "      <td>3286.0</td>\n",
       "    </tr>\n",
       "    <tr>\n",
       "      <th>4</th>\n",
       "      <td>2023-03-03</td>\n",
       "      <td>619820</td>\n",
       "      <td>3290.0</td>\n",
       "    </tr>\n",
       "  </tbody>\n",
       "</table>\n",
       "</div>"
      ],
      "text/plain": [
       "         Date  Viberate performance points  Viberate rank\n",
       "0  2023-02-27                       618725            NaN\n",
       "1  2023-02-28                       616597         3256.0\n",
       "2  2023-03-01                       618045         3262.0\n",
       "3  2023-03-02                       620270         3286.0\n",
       "4  2023-03-03                       619820         3290.0"
      ]
     },
     "execution_count": 1,
     "metadata": {},
     "output_type": "execute_result"
    }
   ],
   "source": [
    "import pandas as pd\n",
    "\n",
    "# Load the Career Performance data\n",
    "career_performance_path = 'Gorgon City-Analytics-Career Performance.csv'\n",
    "career_performance_df = pd.read_csv(career_performance_path)\n",
    "\n",
    "# Display the first few rows of the dataframe to understand its structure and content\n",
    "career_performance_df.head()\n"
   ]
  },
  {
   "cell_type": "markdown",
   "id": "daaf0e75-3357-47c4-8e82-e1db4628a55b",
   "metadata": {},
   "source": [
    "The \"Career Performance\" dataset for Gorgon City includes data on \"Viberate performance points\" and \"Viberate rank\" over time, recorded daily. Here's a brief overview of the columns:\n",
    "\n",
    "- Date: The date on which the data was recorded.\n",
    "- Viberate performance points: A metric that likely combines various factors such as album sales, streaming numbers, social media engagement, and possibly other indicators of an artist's popularity or commercial success.\n",
    "- Viberate rank: The artist's rank relative to other artists, based on the performance points. A missing value in the initial row suggests there might be some gaps or anomalies in the data collection process.\n",
    "\n",
    "To assess Gorgon City's commercial success and career trajectory, we could:\n",
    "\n",
    "- Plot the \"Viberate performance points\" over time to visualize trends in the artist's popularity.\n",
    "- Analyze the \"Viberate rank\" to understand the artist's standing relative to others in the industry.\n",
    "- Look for any significant changes or patterns in performance points and rank, which could correlate with album releases, major concerts, or other key events in the artist's career."
   ]
  },
  {
   "cell_type": "code",
   "execution_count": null,
   "id": "f9297d0d-58cd-44fe-8136-3e141e9faca8",
   "metadata": {},
   "outputs": [],
   "source": []
  }
 ],
 "metadata": {
  "kernelspec": {
   "display_name": "Python 3 (ipykernel)",
   "language": "python",
   "name": "python3"
  },
  "language_info": {
   "codemirror_mode": {
    "name": "ipython",
    "version": 3
   },
   "file_extension": ".py",
   "mimetype": "text/x-python",
   "name": "python",
   "nbconvert_exporter": "python",
   "pygments_lexer": "ipython3",
   "version": "3.11.4"
  }
 },
 "nbformat": 4,
 "nbformat_minor": 5
}
